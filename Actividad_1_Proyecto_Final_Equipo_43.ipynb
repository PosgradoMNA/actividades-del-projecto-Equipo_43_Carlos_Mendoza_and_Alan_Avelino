{
  "nbformat": 4,
  "nbformat_minor": 0,
  "metadata": {
    "colab": {
      "provenance": [],
      "authorship_tag": "ABX9TyOzRHnXGxgcs5fWyhvwL7+y",
      "include_colab_link": true
    },
    "kernelspec": {
      "name": "python3",
      "display_name": "Python 3"
    },
    "language_info": {
      "name": "python"
    }
  },
  "cells": [
    {
      "cell_type": "markdown",
      "metadata": {
        "id": "view-in-github",
        "colab_type": "text"
      },
      "source": [
        "<a href=\"https://colab.research.google.com/github/PosgradoMNA/actividades-del-projecto-Equipo_43_Carlos_Mendoza_and_Alan_Avelino/blob/main/Actividad_1_Proyecto_Final_Equipo_43.ipynb\" target=\"_parent\"><img src=\"https://colab.research.google.com/assets/colab-badge.svg\" alt=\"Open In Colab\"/></a>"
      ]
    },
    {
      "cell_type": "markdown",
      "source": [
        "# **Equipo 43**\n",
        "**INTEGRANTES**\n",
        "\n",
        "* Carlos Daniel Mendoza Paz  AO1793027\n",
        "* Alan Avelino  A00989308"
      ],
      "metadata": {
        "id": "uNR_wl6KZ8Hq"
      }
    },
    {
      "cell_type": "markdown",
      "source": [
        "**Nombre Dataset:** México COVID-19 clinical data\n",
        "\n",
        "**Organización:** Kaggle\n",
        "\n",
        "**URL:** https://www.kaggle.com/datasets/marianarfranklin/mexico-covid19-clinical-data\n",
        "\n",
        "**Descripción de los datos:** Este dataset contiene información sobre los resultados de pruebas PCR de COVID 19, hechas en México durante el primer semestre del año 2020. Estos datos han sido recopilados y reportados a través de la Dirección General de Epidemiología. Los datos aquí contenidos mencionan el número de pruebas positivas, negativas, invalidas, así como el estado de los pacientes que dieron positivo a COVID 19, por ejemplo, si contaban con algún padecimiento persistente como diabetes, obesidad, EPOC previamente a contagiarse de dicha enfermedad.\n",
        "\n",
        "**Preguntas:**\n",
        "\n",
        "1.\t¿Cuál es el estado con mayor número de pruebas COVID realizadas?\n",
        "2.\t¿Cuál es el estado con menor número de pruebas COVID realizadas?\n",
        "3.\t¿Cuál es el porcentaje de casos positivos COVID en personas con diabetes?\n",
        "4.\t¿Cuál es el sector hospitalario del país que atendió a más pacientes COVID?\n",
        "5.\t¿Cuál es el sector hospitalario que atendió a menos pacientes COVID?\n",
        "6.\t¿Cuál es el tiempo promedio que un paciente debe esperar por los resultados de una prueba COVID?\n",
        "7.\t¿Cuál es la edad promedio de las personas que se realizaron pruebas COVID?\n",
        "8.\t¿Qué número de pacientes extranjeros fueron atendidos en México por padecimiento COVID?\n",
        "9.\tDel número total de pruebas COVID realizadas en el primer semestre del año 2020. ¿Qué porcentaje de ellas fueron reportadas como invalidas?\n",
        "10.\t¿Qué porcentaje de personas con padecimiento COVID, requirieron ser entubadas?\n",
        "11.\tDel número total de personas infectadas en el primer semestre del año 2020. ¿Qué porcentaje de ellos son mujeres embarazadas?\n",
        "\n",
        "**¿Qué actor (empresa, sector de la sociedad, organismo descentralizado, gobierno, etc.) estaría interesado en las preguntas mencionadas que identificó?**\n",
        "\n",
        "Las preguntas planteadas anteriormente, están pensadas en brindar información más clara sobre la pandemia de COVID 19 suscitada a nivel mundial durante el año 2020. El enfoque de este análisis es exclusivo para México, dado el caso que toda la información recopilada en esta base de datos pertenece a dicho país.\n",
        "Se pretende ofrecer un análisis detallado de los datos a manera de informar a la sociedad mexicana y a entidades gubernamentales que pudieran servirse de este análisis para así poder ayudarse en la toma de decisiones que deban hacer en el sector salud de sus respectivas localidades.\n"
      ],
      "metadata": {
        "id": "LGxh-4YYp1yg"
      }
    },
    {
      "cell_type": "code",
      "source": [],
      "metadata": {
        "id": "6ImLCJLneeeN"
      },
      "execution_count": null,
      "outputs": []
    }
  ]
}